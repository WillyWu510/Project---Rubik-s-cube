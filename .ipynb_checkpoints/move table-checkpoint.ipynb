{
 "cells": [
  {
   "cell_type": "code",
   "execution_count": 25,
   "metadata": {},
   "outputs": [],
   "source": [
    "import import_ipynb\n",
    "import numpy as np\n",
    "import coordinatecube as CoordC\n",
    "import TwoPhaseCoordinate as TPCoordC"
   ]
  },
  {
   "cell_type": "code",
   "execution_count": 26,
   "metadata": {},
   "outputs": [],
   "source": [
    "U, U2, U3, R, R2, R3, F, F2, F3, D, D2, D3, L, L2, L3, B, B2, B3 = [i for i in range(18)]\n",
    "move_dict = {\n",
    "    'U' : U, \n",
    "    'UU' : U2, \n",
    "    'UUU' : U3, \n",
    "    'R' : R, \n",
    "    'RR' : R2, \n",
    "    'RRR' : R3, \n",
    "    'F' : F, \n",
    "    'FF' : F2, \n",
    "    'FFF' : F3, \n",
    "    'D' : D, \n",
    "    'DD' : D2, \n",
    "    'DDD' : D3, \n",
    "    'L' : L, \n",
    "    'LL' : L2, \n",
    "    'LLL' : L3, \n",
    "    'B' : B, \n",
    "    'BB' : B2, \n",
    "    'BBB' : B3\n",
    "}\n",
    "\n",
    "inv_move_index = {\n",
    "    'U' : 'UUU', \n",
    "    'UU' : 'UU', \n",
    "    'UUU' : 'U', \n",
    "    'R' : 'RRR', \n",
    "    'RR' : 'RR', \n",
    "    'RRR' : 'R', \n",
    "    'F' : 'FFF', \n",
    "    'FF' : 'FF', \n",
    "    'FFF' : 'F', \n",
    "    'D' : 'DDD', \n",
    "    'DD' : 'DD', \n",
    "    'DDD' : 'D', \n",
    "    'L' : 'LLL', \n",
    "    'LL' : 'LL', \n",
    "    'LLL' : 'L', \n",
    "    'B' : 'BBB', \n",
    "    'BB' : 'BB', \n",
    "    'BBB' : 'B'\n",
    "}"
   ]
  },
  {
   "cell_type": "code",
   "execution_count": 4,
   "metadata": {},
   "outputs": [],
   "source": [
    "class MoveTable():\n",
    "    def __init__(self):\n",
    "        # row entries: different pattern\n",
    "        #column entries: 18 moves: U, U2, U3, R, R2, R3, F, F2, F3, D, D2, D3, L, L2, L3, B, B1, B2, B3\n",
    "        self.CornerPermutation = np.zeros([np.math.factorial(8),18], dtype = 'int')\n",
    "        self.CornerOrientation = np.zeros([3**7,18],dtype = 'int')\n",
    "        self.EdgePermutation_P1 = np.zeros([12*11*10*9/np.math.factorial(4),18], dtype = 'int') \n",
    "        self.EdgeOrientation = np.zeros([2**11,18],dtype = 'int')\n",
    "           \n",
    "        # Corner Permutation\n",
    "        for i in range(np.math.factorial(8)):\n",
    "            # generate a cube, turn it, record it, and then undo the move.\n",
    "            Q = CoordC.CoordinateCube(i, 0, 0, 0, CubieCube = None)\n",
    "            Q_C = Q.to_cubiecube()\n",
    "            for key in move_dict.keys():\n",
    "                Q_C.move(key)\n",
    "                Q_2 = CoordC.CoordinateCube(CubieCube = Q_C)\n",
    "                self.CornerPermutation[i,move_dict[key]] = Q_2.cp\n",
    "                Q_C.move(inv_move_index[key])\n",
    "        \n",
    "        # Corner Orientation\n",
    "        for i in range(3**7):\n",
    "            # generate a cube, turn it, record it, and then undo the move.\n",
    "            Q = CoordC.CoordinateCube(0, i, 0, 0, CubieCube = None)\n",
    "            Q_C = Q.to_cubiecube()\n",
    "            for key in move_dict.keys():\n",
    "                Q_C.move(key)\n",
    "                Q_2 = CoordC.CoordinateCube(CubieCube = Q_C)\n",
    "                self.CornerOrientation[i,move_dict[key]] = Q_2.cp\n",
    "                Q_C.move(inv_move_index[key])\n",
    "        \n",
    "        # Edge Permutation\n",
    "        for i in range(12*11*10*9/np.math.factorial(4)):\n",
    "            # generate a cube, turn it, record it, and then undo the move.\n",
    "            Q = TPCoordC.PhaseOneCoordinateCube(0, 0, i, 0, CubieCube = None)\n",
    "            Q_C = Q.to_CubieCube()\n",
    "            for key in move_dict.keys():\n",
    "                Q_C.move(key)\n",
    "                Q_2 = TPCoordC.PhaseOneCoordinateCube(CubieCube = Q_C)\n",
    "                self.EdgePermutation_P1[i,move_dict[key]] = Q_2.ep_UDSlice_phase1\n",
    "                Q_C.move(inv_move_index[key])\n",
    "        \n",
    "        # Edge Orientation\n",
    "        for i in range(2**11):\n",
    "            # generate a cube, turn it, record it, and then undo the move.\n",
    "            Q = CoordC.CoordinateCube(0, 0, 0, i, CubieCube = None)\n",
    "            Q_C = Q.to_cubiecube()\n",
    "            for key in move_dict.keys():\n",
    "                Q_C.move(key)\n",
    "                Q_2 = CoordC.CoordinateCube(CubieCube = Q_C)\n",
    "                self.EdgeOrientation[i,move_dict[key]] = Q_2.cp\n",
    "                Q_C.move(inv_move_index[key])"
   ]
  },
  {
   "cell_type": "code",
   "execution_count": 27,
   "metadata": {},
   "outputs": [
    {
     "ename": "NameError",
     "evalue": "name 'kwarg' is not defined",
     "output_type": "error",
     "traceback": [
      "\u001b[1;31m---------------------------------------------------------------------------\u001b[0m",
      "\u001b[1;31mNameError\u001b[0m                                 Traceback (most recent call last)",
      "\u001b[1;32m<ipython-input-27-35450b194e98>\u001b[0m in \u001b[0;36m<module>\u001b[1;34m()\u001b[0m\n\u001b[0;32m      2\u001b[0m \u001b[1;33m\u001b[0m\u001b[0m\n\u001b[0;32m      3\u001b[0m \u001b[0mQ\u001b[0m \u001b[1;33m=\u001b[0m \u001b[0mTPCoordC\u001b[0m\u001b[1;33m.\u001b[0m\u001b[0mPhaseOneCoordinateCube\u001b[0m\u001b[1;33m(\u001b[0m\u001b[1;36m0\u001b[0m\u001b[1;33m,\u001b[0m \u001b[1;36m0\u001b[0m\u001b[1;33m,\u001b[0m \u001b[1;36m2\u001b[0m\u001b[1;33m,\u001b[0m \u001b[1;36m0\u001b[0m\u001b[1;33m,\u001b[0m \u001b[0mCubieCube\u001b[0m \u001b[1;33m=\u001b[0m \u001b[1;32mNone\u001b[0m\u001b[1;33m)\u001b[0m\u001b[1;33m\u001b[0m\u001b[0m\n\u001b[1;32m----> 4\u001b[1;33m \u001b[0mQ_C\u001b[0m \u001b[1;33m=\u001b[0m \u001b[0mQ\u001b[0m\u001b[1;33m.\u001b[0m\u001b[0mto_CubieCube\u001b[0m\u001b[1;33m(\u001b[0m\u001b[1;33m)\u001b[0m\u001b[1;33m\u001b[0m\u001b[0m\n\u001b[0m\u001b[0;32m      5\u001b[0m \u001b[1;32mfor\u001b[0m \u001b[0mkey\u001b[0m \u001b[1;32min\u001b[0m \u001b[0mmove_dict\u001b[0m\u001b[1;33m.\u001b[0m\u001b[0mkeys\u001b[0m\u001b[1;33m(\u001b[0m\u001b[1;33m)\u001b[0m\u001b[1;33m:\u001b[0m\u001b[1;33m\u001b[0m\u001b[0m\n\u001b[0;32m      6\u001b[0m     \u001b[0mQ_C\u001b[0m\u001b[1;33m.\u001b[0m\u001b[0mmove\u001b[0m\u001b[1;33m(\u001b[0m\u001b[0mkey\u001b[0m\u001b[1;33m)\u001b[0m\u001b[1;33m\u001b[0m\u001b[0m\n",
      "\u001b[1;32mD:\\josh-pc\\Documents\\大學數學\\計算數學導論\\FinalProj\\Project---Rubik-s-cube\\TwoPhaseCoordinate.ipynb\u001b[0m in \u001b[0;36mto_CubieCube\u001b[1;34m(self)\u001b[0m\n",
      "\u001b[1;31mNameError\u001b[0m: name 'kwarg' is not defined"
     ]
    }
   ],
   "source": [
    "EdgePermutation_P1 = np.zeros([12*11*10*9//np.math.factorial(4),18], dtype = 'int')\n",
    "\n",
    "Q = TPCoordC.PhaseOneCoordinateCube(0, 0, 2, 0, CubieCube = None)\n",
    "Q_C = Q.to_CubieCube()\n",
    "for key in move_dict.keys():\n",
    "    Q_C.move(key)\n",
    "    Q_2 = TPCoordC.PhaseOneCoordinateCube(CubieCube = Q_C)\n",
    "    EdgePermutation_P1[i,move_dict[key]] = Q_2.ep_UDSlice_phase1\n",
    "    Q_C.move(inv_move_index[key])"
   ]
  },
  {
   "cell_type": "code",
   "execution_count": null,
   "metadata": {},
   "outputs": [],
   "source": []
  }
 ],
 "metadata": {
  "kernelspec": {
   "display_name": "Python 3",
   "language": "python",
   "name": "python3"
  },
  "language_info": {
   "codemirror_mode": {
    "name": "ipython",
    "version": 3
   },
   "file_extension": ".py",
   "mimetype": "text/x-python",
   "name": "python",
   "nbconvert_exporter": "python",
   "pygments_lexer": "ipython3",
   "version": "3.6.5"
  }
 },
 "nbformat": 4,
 "nbformat_minor": 2
}
