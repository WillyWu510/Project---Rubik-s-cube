{
 "cells": [
  {
   "cell_type": "code",
   "execution_count": 1,
   "metadata": {},
   "outputs": [],
   "source": [
    "U = 0\n",
    "R = 1\n",
    "F = 2\n",
    "D = 3\n",
    "L = 4\n",
    "B = 5\n",
    "\n",
    "color_values = (\n",
    "    U,\n",
    "    R,\n",
    "    F,\n",
    "    D,\n",
    "    L,\n",
    "    B,\n",
    ")\n",
    "\n",
    "color_keys = (\n",
    "    'U',\n",
    "    'R',\n",
    "    'F',\n",
    "    'D',\n",
    "    'L',\n",
    "    'B',\n",
    ")\n",
    "\n",
    "colors = {\n",
    "    'U': U,\n",
    "    'R': R,\n",
    "    'F': F,\n",
    "    'D': D,\n",
    "    'L': L,\n",
    "    'B': B,\n",
    "}"
   ]
  }
 ],
 "metadata": {
  "kernelspec": {
   "display_name": "Python 3",
   "language": "python",
   "name": "python3"
  },
  "language_info": {
   "codemirror_mode": {
    "name": "ipython",
    "version": 3
   },
   "file_extension": ".py",
   "mimetype": "text/x-python",
   "name": "python",
   "nbconvert_exporter": "python",
   "pygments_lexer": "ipython3",
   "version": "3.7.3"
  }
 },
 "nbformat": 4,
 "nbformat_minor": 4
}
