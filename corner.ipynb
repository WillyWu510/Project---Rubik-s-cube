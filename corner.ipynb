{
 "cells": [
  {
   "cell_type": "code",
   "execution_count": 2,
   "metadata": {},
   "outputs": [],
   "source": [
    "URF = 0\n",
    "UFL = 1\n",
    "ULB = 2\n",
    "UBR = 3\n",
    "DFR = 4\n",
    "DLF = 5\n",
    "DBL = 6\n",
    "DRB = 7\n",
    "\n",
    "corner_values = (\n",
    "    URF,\n",
    "    UFL,\n",
    "    ULB,\n",
    "    UBR,\n",
    "    DFR,\n",
    "    DLF,\n",
    "    DBL,\n",
    "    DRB,\n",
    ")\n",
    "\n",
    "corner_keys = (\n",
    "    'URF',\n",
    "    'UFL',\n",
    "    'ULB',\n",
    "    'UBR',\n",
    "    'DFR',\n",
    "    'DLF',\n",
    "    'DBL',\n",
    "    'DRB',\n",
    ")"
   ]
  }
 ],
 "metadata": {
  "kernelspec": {
   "display_name": "Python 3",
   "language": "python",
   "name": "python3"
  },
  "language_info": {
   "codemirror_mode": {
    "name": "ipython",
    "version": 3
   },
   "file_extension": ".py",
   "mimetype": "text/x-python",
   "name": "python",
   "nbconvert_exporter": "python",
   "pygments_lexer": "ipython3",
   "version": "3.7.6"
  }
 },
 "nbformat": 4,
 "nbformat_minor": 4
}
