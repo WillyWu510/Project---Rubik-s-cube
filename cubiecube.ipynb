{
 "cells": [
  {
   "cell_type": "code",
   "execution_count": 20,
   "metadata": {},
   "outputs": [
    {
     "name": "stdout",
     "output_type": "stream",
     "text": [
      "importing Jupyter notebook from corner.ipynb\n"
     ]
    }
   ],
   "source": [
    "import import_ipynb\n",
    "import copy\n",
    "from builtins import range\n",
    "\n",
    "import corner\n",
    "import edge"
   ]
  },
  {
   "cell_type": "code",
   "execution_count": 24,
   "metadata": {
    "scrolled": true
   },
   "outputs": [],
   "source": [
    "class CubieCube(object):\n",
    "    #cubie level\n",
    "    def __init__(self, cp=None, co=None, ep=None, eo=None):\n",
    "        # corner permutation\n",
    "        self.cp = copy.copy(cp) if cp else [URF, UFL, ULB, UBR, DFR, DLF, DBL, DRB]\n",
    "\n",
    "        # corner orientation\n",
    "        self.co = copy.copy(co) if co else [0, 0, 0, 0, 0, 0, 0, 0]\n",
    "\n",
    "        # edge permutation\n",
    "        self.ep = copy.copy(ep) if ep else [UR, UF, UL, UB, DR, DF, DL, DB, FR, FL, BL, BR]\n",
    "\n",
    "        # edge orientation\n",
    "        self.eo = copy.copy(eo) if eo else [0, 0, 0, 0, 0, 0, 0, 0, 0, 0, 0, 0]        \n",
    "    "
   ]
  },
  {
   "cell_type": "code",
   "execution_count": 27,
   "metadata": {},
   "outputs": [],
   "source": [
    "cpU = [corner.UBR, corner.URF, corner.UFL, corner.ULB, corner.DFR, corner.DLF, corner.DBL, corner.DRB]\n",
    "coU = [0, 0, 0, 0, 0, 0, 0, 0]\n",
    "epU = [edge.UB, edge.UR, edge.UF, edge.UL, edge.DR, edge.DF, edge.DL, edge.DB, edge.FR, edge.FL, edge.BL, edge.BR]\n",
    "eoU = [0, 0, 0, 0, 0, 0, 0, 0, 0, 0, 0, 0]\n",
    "\n",
    "cpR = [corner.DFR, corner.UFL, corner.ULB, corner.URF, corner.DRB, corner.DLF, corner.DBL, corner.UBR]\n",
    "coR = [2, 0, 0, 1, 1, 0, 0, 2]\n",
    "epR = [edge.FR, edge.UF, edge.UL, edge.UB, edge.BR, edge.DF, edge.DL, edge.DB, edge.DR, edge.FL, edge.BL, edge.UR]\n",
    "eoR = [0, 0, 0, 0, 0, 0, 0, 0, 0, 0, 0, 0]\n",
    "\n",
    "cpF = [corner.UFL, corner.DLF, corner.ULB, corner.UBR, corner.URF, corner.DFR, corner.DBL, corner.DRB]\n",
    "coF = [1, 2, 0, 0, 2, 1, 0, 0]\n",
    "epF = [edge.UR, edge.FL, edge.UL, edge.UB, edge.DR, edge.FR, edge.DL, edge.DB, edge.UF, edge.DF, edge.BL, edge.BR]\n",
    "eoF = [0, 1, 0, 0, 0, 1, 0, 0, 1, 1, 0, 0]\n",
    "\n",
    "cpD = [corner.URF, corner.UFL, corner.ULB, corner.UBR, corner.DLF, corner.DBL, corner.DRB, corner.DFR]\n",
    "coD = [0, 0, 0, 0, 0, 0, 0, 0]\n",
    "epD = [edge.UR, edge.UF, edge.UL, edge.UB, edge.DF, edge.DL, edge.DB, edge.DR, edge.FR, edge.FL, edge.BL, edge.BR]\n",
    "eoD = [0, 0, 0, 0, 0, 0, 0, 0, 0, 0, 0, 0]\n",
    "\n",
    "cpL = [corner.URF, corner.ULB, corner.DBL, corner.UBR, corner.DFR, corner.UFL, corner.DLF, corner.DRB]\n",
    "coL = [0, 1, 2, 0, 0, 2, 1, 0]\n",
    "epL = [edge.UR, edge.UF, edge.BL, edge.UB, edge.DR, edge.DF, edge.FL, edge.DB, edge.FR, edge.UL, edge.DL, edge.BR]\n",
    "eoL = [0, 0, 0, 0, 0, 0, 0, 0, 0, 0, 0, 0]\n",
    "\n",
    "cpB = [corner.URF, corner.UFL, corner.UBR, corner.DRB, corner.DFR, corner.DLF, corner.ULB, corner.DBL]\n",
    "coB = [0, 0, 1, 2, 0, 0, 2, 1]\n",
    "epB = [edge.UR, edge.UF, edge.UL, edge.BR, edge.DR, edge.DF, edge.DL, edge.BL, edge.FR, edge.FL, edge.UB, edge.DB]\n",
    "eoB = [0, 0, 0, 1, 0, 0, 0, 1, 0, 0, 1, 1]\n"
   ]
  }
 ],
 "metadata": {
  "kernelspec": {
   "display_name": "Python 3",
   "language": "python",
   "name": "python3"
  },
  "language_info": {
   "codemirror_mode": {
    "name": "ipython",
    "version": 3
   },
   "file_extension": ".py",
   "mimetype": "text/x-python",
   "name": "python",
   "nbconvert_exporter": "python",
   "pygments_lexer": "ipython3",
   "version": "3.7.6"
  }
 },
 "nbformat": 4,
 "nbformat_minor": 4
}
