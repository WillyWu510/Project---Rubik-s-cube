{
 "cells": [
  {
   "cell_type": "code",
   "execution_count": 7,
   "metadata": {},
   "outputs": [],
   "source": [
    "import import_ipynb\n",
    "import copy\n",
    "from builtins import range\n",
    "\n",
    "import corner as Co\n",
    "import edge as Ed\n",
    "import facelet as Fc\n",
    "import facecube as FC\n",
    "import numpy as np"
   ]
  },
  {
   "cell_type": "code",
   "execution_count": 36,
   "metadata": {},
   "outputs": [],
   "source": [
    "# moves\n",
    "cpU = [Co.UBR, Co.URF, Co.UFL, Co.ULB, Co.DFR, Co.DLF, Co.DBL, Co.DRB]\n",
    "coU = np.array([0, 0, 0, 0, 0, 0, 0, 0])\n",
    "epU = [Ed.UB, Ed.UR, Ed.UF, Ed.UL, Ed.DR, Ed.DF, Ed.DL, Ed.DB, Ed.FR, Ed.FL, Ed.BL, Ed.BR]\n",
    "eoU = np.array([0, 0, 0, 0, 0, 0, 0, 0, 0, 0, 0, 0])\n",
    "\n",
    "cpR = [Co.DFR, Co.UFL, Co.ULB, Co.URF, Co.DRB, Co.DLF, Co.DBL, Co.UBR]\n",
    "coR = np.array([2, 0, 0, 1, 1, 0, 0, 2])\n",
    "epR = [Ed.FR, Ed.UF, Ed.UL, Ed.UB, Ed.BR, Ed.DF, Ed.DL, Ed.DB, Ed.DR, Ed.FL, Ed.BL, Ed.UR]\n",
    "eoR = np.array([0, 0, 0, 0, 0, 0, 0, 0, 0, 0, 0, 0])\n",
    "\n",
    "cpF = [Co.UFL, Co.DLF, Co.ULB, Co.UBR, Co.URF, Co.DFR, Co.DBL, Co.DRB]\n",
    "coF = np.array([1, 2, 0, 0, 2, 1, 0, 0])\n",
    "epF = [Ed.UR, Ed.FL, Ed.UL, Ed.UB, Ed.DR, Ed.FR, Ed.DL, Ed.DB, Ed.UF, Ed.DF, Ed.BL, Ed.BR]\n",
    "eoF = np.array([0, 1, 0, 0, 0, 1, 0, 0, 1, 1, 0, 0])\n",
    "\n",
    "cpD = [Co.URF, Co.UFL, Co.ULB, Co.UBR, Co.DLF, Co.DBL, Co.DRB, Co.DFR]\n",
    "coD = np.array([0, 0, 0, 0, 0, 0, 0, 0])\n",
    "epD = [Ed.UR, Ed.UF, Ed.UL, Ed.UB, Ed.DF, Ed.DL, Ed.DB, Ed.DR, Ed.FR, Ed.FL, Ed.BL, Ed.BR]\n",
    "eoD = np.array([0, 0, 0, 0, 0, 0, 0, 0, 0, 0, 0, 0])\n",
    "\n",
    "cpL = [Co.URF, Co.ULB, Co.DBL, Co.UBR, Co.DFR, Co.UFL, Co.DLF, Co.DRB]\n",
    "coL = np.array([0, 1, 2, 0, 0, 2, 1, 0])\n",
    "epL = [Ed.UR, Ed.UF, Ed.BL, Ed.UB, Ed.DR, Ed.DF, Ed.FL, Ed.DB, Ed.FR, Ed.UL, Ed.DL, Ed.BR]\n",
    "eoL = np.array([0, 0, 0, 0, 0, 0, 0, 0, 0, 0, 0, 0])\n",
    "\n",
    "cpB = [Co.URF, Co.UFL, Co.UBR, Co.DRB, Co.DFR, Co.DLF, Co.ULB, Co.DBL]\n",
    "coB = np.array([0, 0, 1, 2, 0, 0, 2, 1])\n",
    "epB = [Ed.UR, Ed.UF, Ed.UL, Ed.BR, Ed.DR, Ed.DF, Ed.DL, Ed.BL, Ed.FR, Ed.FL, Ed.UB, Ed.DB]\n",
    "eoB = np.array([0, 0, 0, 1, 0, 0, 0, 1, 0, 0, 1, 1])"
   ]
  },
  {
   "cell_type": "code",
   "execution_count": 49,
   "metadata": {
    "scrolled": true
   },
   "outputs": [],
   "source": [
    "def corner_num_to_str_translator(s):\n",
    "    a = []\n",
    "    for i in range(len(s)):\n",
    "        for c in Co.corners.keys():\n",
    "            if s[i] == Co.corners[c]:\n",
    "                a.append(c)\n",
    "                break\n",
    "    return np.array(a)    \n",
    "\n",
    "def edge_num_to_str_translator(s):\n",
    "    a = []\n",
    "    for i in range(len(s)):\n",
    "        for e in Ed.edges.keys():\n",
    "            if s[i] == Ed.edges[e]:\n",
    "                a.append(e)\n",
    "                break\n",
    "    return np.array(a)\n",
    "\n",
    "\n",
    "\n",
    "class CubieCube(object):\n",
    "    #cubie level\n",
    "    def __init__(self, cp=None, co=None, ep=None, eo=None):\n",
    "        # corner permutation\n",
    "        self.cp = copy.copy(cp) if cp else [Co.URF, Co.UFL, Co.ULB, Co.UBR, Co.DFR, Co.DLF, Co.DBL, Co.DRB]\n",
    "        self.cp_str = corner_num_to_str_translator(cp)\n",
    "        \n",
    "        # corner orientation\n",
    "        if co.all() != None:\n",
    "            self.co = co.copy()  \n",
    "        else:\n",
    "            np.array([0, 0, 0, 0, 0, 0, 0, 0])\n",
    "\n",
    "        # edge permutation\n",
    "        self.ep = copy.copy(ep) if ep else [Ed.UR, Ed.UF, Ed.UL, Ed.UB, Ed.DR, Ed.DF, Ed.DL, Ed.DB, Ed.FR, Ed.FL, Ed.BL, Ed.BR]\n",
    "        self.ep_str = edge_num_to_str_translator(ep)\n",
    "        \n",
    "        # edge orientation\n",
    "        if eo.all()!= None:\n",
    "            self.eo = eo.copy()\n",
    "        else:\n",
    "            np.array([0, 0, 0, 0, 0, 0, 0, 0, 0, 0, 0, 0])        \n",
    "    \n",
    "    def __str__(self):\n",
    "        return str(self.to_facelet())\n",
    "    \n",
    "    def to_2dstring(self):\n",
    "        return self.to_facelet().to_2dstring()\n",
    "    \n",
    "    def to_facelet(self):\n",
    "        s = ['0' for i in range(54)]\n",
    "        # set the centers\n",
    "        s[Fc.U5] = 'U'\n",
    "        s[Fc.R5] = 'R'\n",
    "        s[Fc.F5] = 'F'\n",
    "        s[Fc.D5] = 'D'\n",
    "        s[Fc.L5] = 'L'\n",
    "        s[Fc.B5] = 'B'\n",
    "        \n",
    "        # assign the value by each cubie\n",
    "        # corner\n",
    "        for c in Co.corner_keys:\n",
    "            Cubie_at_c = self.cp_str[Co.corners[c]]\n",
    "            color_at_face = ''\n",
    "            for i in range(3):\n",
    "                face = Co.corner_facelets[c][i]\n",
    "                index = i\n",
    "                if self.co[Co.corners[c]] % 3 == 1:  # clockwise\n",
    "                    index = (i - 1 + 3)%3\n",
    "                if self.co[Co.corners[c]] % 3 == 2:  # counterclockwise\n",
    "                    index = (i - 2 + 3)%3   \n",
    "                num_of_color_at_face = Co.corner_facelets[Cubie_at_c][index]\n",
    "                for i in Fc.facelets.keys():\n",
    "                    if Fc.facelets[i] == num_of_color_at_face:\n",
    "                        color_at_face = i\n",
    "                s[face] = color_at_face        \n",
    "        # edge\n",
    "        for e in Ed.edge_keys:\n",
    "            Cubie_at_e = self.ep_str[Ed.edges[e]]\n",
    "            color_at_face = ''\n",
    "            for i in range(2):\n",
    "                face = Ed.edge_facelets[e][i]\n",
    "                index = i\n",
    "                if self.eo[Ed.edges[e]] % 2 == 1:  # flipped\n",
    "                    index = (i - 1 + 2) % 2\n",
    "                num_of_color_at_face = Ed.edge_facelets[Cubie_at_e][index]\n",
    "                for i in Fc.facelets.keys():\n",
    "                    if Fc.facelets[i] == num_of_color_at_face:\n",
    "                        color_at_face = i\n",
    "                s[face] = color_at_face        \n",
    "\n",
    "        seq = \"\".join(s)   \n",
    "        Q = FC.FaceCube(seq)\n",
    "        return Q         "
   ]
  },
  {
   "cell_type": "code",
   "execution_count": 43,
   "metadata": {},
   "outputs": [
    {
     "data": {
      "text/plain": [
       "array(['UBR', 'URF', 'UFL', 'ULB', 'DFR', 'DLF', 'DBL', 'DRB'],\n",
       "      dtype='<U3')"
      ]
     },
     "execution_count": 43,
     "metadata": {},
     "output_type": "execute_result"
    }
   ],
   "source": [
    "corner_num_to_str_translator(cpU)"
   ]
  },
  {
   "cell_type": "code",
   "execution_count": 50,
   "metadata": {},
   "outputs": [
    {
     "name": "stdout",
     "output_type": "stream",
     "text": [
      "   UUU\n",
      "   UUU\n",
      "   UUU\n",
      "FFFRRRBBBLLL\n",
      "LLLFFFRRRBBB\n",
      "LLLFFFRRRBBB\n",
      "   DDD\n",
      "   DDD\n",
      "   DDD\n",
      "\n"
     ]
    }
   ],
   "source": [
    "a = CubieCube(cpU, coU, epU,eoU)\n",
    "print(a.to_2dstring())"
   ]
  }
 ],
 "metadata": {
  "kernelspec": {
   "display_name": "Python 3",
   "language": "python",
   "name": "python3"
  },
  "language_info": {
   "codemirror_mode": {
    "name": "ipython",
    "version": 3
   },
   "file_extension": ".py",
   "mimetype": "text/x-python",
   "name": "python",
   "nbconvert_exporter": "python",
   "pygments_lexer": "ipython3",
   "version": "3.7.3"
  }
 },
 "nbformat": 4,
 "nbformat_minor": 4
}
