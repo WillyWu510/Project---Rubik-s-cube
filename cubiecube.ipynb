{
 "cells": [
  {
   "cell_type": "code",
   "execution_count": 7,
   "metadata": {},
   "outputs": [
    {
     "name": "stdout",
     "output_type": "stream",
     "text": [
      "importing Jupyter notebook from corner.ipynb\n",
      "importing Jupyter notebook from facelet.ipynb\n",
      "(0, 1, 2, 3, 4, 5, 6, 7, 8, 9, 10, 11, 12, 13, 14, 15, 16, 17, 18, 19, 20, 21, 22, 23, 24, 25, 26, 27, 28, 29, 30, 31, 32, 33, 34, 35, 36, 37, 38, 39, 40, 41, 42, 43, 44, 45, 46, 47, 48, 49, 50, 51, 52, 53)\n",
      "importing Jupyter notebook from edge.ipynb\n",
      "importing Jupyter notebook from facecube.ipynb\n",
      "importing Jupyter notebook from color.ipynb\n"
     ]
    }
   ],
   "source": [
    "import import_ipynb\n",
    "import copy\n",
    "from builtins import range\n",
    "\n",
    "import corner as Co\n",
    "import edge as Ed\n",
    "import facelet as Fc\n",
    "import facecube as FC"
   ]
  },
  {
   "cell_type": "code",
   "execution_count": 46,
   "metadata": {
    "scrolled": true
   },
   "outputs": [],
   "source": [
    "class CubieCube(object):\n",
    "    #cubie level\n",
    "    def __init__(self, cp=None, co=None, ep=None, eo=None):\n",
    "        # corner permutation\n",
    "        self.cp = copy.copy(cp) if cp else ['URF', 'UFL', 'ULB', 'UBR', 'DFR', 'DLF', 'DBL', 'DRB']\n",
    "\n",
    "        # corner orientation\n",
    "        self.co = copy.copy(co) if co else [0, 0, 0, 0, 0, 0, 0, 0]\n",
    "\n",
    "        # edge permutation\n",
    "        self.ep = copy.copy(ep) if ep else ['UR', 'UF', 'UL', 'UB', 'DR', 'DF', 'DL', 'DB', 'FR', 'FL', 'BL', 'BR']\n",
    "\n",
    "        # edge orientation\n",
    "        self.eo = copy.copy(eo) if eo else [0, 0, 0, 0, 0, 0, 0, 0, 0, 0, 0, 0]        \n",
    "    \n",
    "    def to_facelet(self):\n",
    "        s = ['0' for i in range(54)]\n",
    "        # set the centers\n",
    "        s[Fc.U5] = 'U'\n",
    "        s[Fc.R5] = 'R'\n",
    "        s[Fc.F5] = 'F'\n",
    "        s[Fc.D5] = 'D'\n",
    "        s[Fc.L5] = 'L'\n",
    "        s[Fc.B5] = 'B'\n",
    "        \n",
    "        # assign the value by each cubie\n",
    "        # corner\n",
    "        for c in Co.corner_keys:\n",
    "            Cubie_at_c = self.cp[Co.corners[c]]\n",
    "            color_at_face = ''\n",
    "            for i in range(3):\n",
    "                face = Co.corner_facelets[c][i]\n",
    "                index = i\n",
    "                if self.co[Co.corners[c]] % 3 == 1:  # clockwise\n",
    "                    index = (i - 1 + 3)%3\n",
    "                if self.co[Co.corners[c]] % 3 == 2:  # counterclockwise\n",
    "                    index = (i - 2 + 3)%3   \n",
    "                num_of_color_at_face = Co.corner_facelets[Cubie_at_c][index]\n",
    "                for i in Fc.facelets.keys():\n",
    "                    if Fc.facelets[i] == num_of_color_at_face:\n",
    "                        color_at_face = i\n",
    "                s[face] = color_at_face        \n",
    "        # edge\n",
    "        for e in Ed.edge_keys:\n",
    "            Cubie_at_e = self.ep[Ed.edges[e]]\n",
    "            color_at_face = ''\n",
    "            for i in range(2):\n",
    "                face = Ed.edge_facelets[e][i]\n",
    "                index = i\n",
    "                if self.eo[Ed.edges[e]] % 2 == 1:  # flipped\n",
    "                    index = (i - 1 + 2) % 2\n",
    "                num_of_color_at_face = Ed.edge_facelets[Cubie_at_e][index]\n",
    "                for i in Fc.facelets.keys():\n",
    "                    if Fc.facelets[i] == num_of_color_at_face:\n",
    "                        color_at_face = i\n",
    "                s[face] = color_at_face        \n",
    "\n",
    "        seq = \"\".join(s)   \n",
    "        Q = FC.FaceCube(seq)\n",
    "        return Q         "
   ]
  },
  {
   "cell_type": "code",
   "execution_count": 49,
   "metadata": {},
   "outputs": [
    {
     "name": "stdout",
     "output_type": "stream",
     "text": [
      "   UUU\n",
      "   UUU\n",
      "   UUU\n",
      "FFFRRRBBBLLL\n",
      "LLLFFFRRRBBB\n",
      "LLLFFFRRRBBB\n",
      "   DDD\n",
      "   DDD\n",
      "   DDD\n",
      "\n"
     ]
    }
   ],
   "source": [
    "cpU = ['UBR', 'URF', 'UFL', 'ULB', 'DFR', 'DLF', 'DBL', 'DRB']\n",
    "coU = [0, 0, 0, 0, 0, 0, 0, 0]\n",
    "epU = ['UB', 'UR', 'UF', 'UL', 'DR', 'DF', 'DL', 'DB', 'FR', 'FL', 'BL', 'BR']\n",
    "eoU = [0, 0, 0, 0, 0, 0, 0, 0, 0, 0, 0, 0]\n",
    "a = CubieCube(cpU, coU, epU,eoU)\n",
    "q = a.to_facelet()\n",
    "print(q.to_2dstring())"
   ]
  },
  {
   "cell_type": "code",
   "execution_count": 27,
   "metadata": {},
   "outputs": [],
   "source": [
    "cpU = [corner.UBR, corner.URF, corner.UFL, corner.ULB, corner.DFR, corner.DLF, corner.DBL, corner.DRB]\n",
    "coU = [0, 0, 0, 0, 0, 0, 0, 0]\n",
    "epU = [edge.UB, edge.UR, edge.UF, edge.UL, edge.DR, edge.DF, edge.DL, edge.DB, edge.FR, edge.FL, edge.BL, edge.BR]\n",
    "eoU = [0, 0, 0, 0, 0, 0, 0, 0, 0, 0, 0, 0]\n",
    "\n",
    "cpR = [corner.DFR, corner.UFL, corner.ULB, corner.URF, corner.DRB, corner.DLF, corner.DBL, corner.UBR]\n",
    "coR = [2, 0, 0, 1, 1, 0, 0, 2]\n",
    "epR = [edge.FR, edge.UF, edge.UL, edge.UB, edge.BR, edge.DF, edge.DL, edge.DB, edge.DR, edge.FL, edge.BL, edge.UR]\n",
    "eoR = [0, 0, 0, 0, 0, 0, 0, 0, 0, 0, 0, 0]\n",
    "\n",
    "cpF = [corner.UFL, corner.DLF, corner.ULB, corner.UBR, corner.URF, corner.DFR, corner.DBL, corner.DRB]\n",
    "coF = [1, 2, 0, 0, 2, 1, 0, 0]\n",
    "epF = [edge.UR, edge.FL, edge.UL, edge.UB, edge.DR, edge.FR, edge.DL, edge.DB, edge.UF, edge.DF, edge.BL, edge.BR]\n",
    "eoF = [0, 1, 0, 0, 0, 1, 0, 0, 1, 1, 0, 0]\n",
    "\n",
    "cpD = [corner.URF, corner.UFL, corner.ULB, corner.UBR, corner.DLF, corner.DBL, corner.DRB, corner.DFR]\n",
    "coD = [0, 0, 0, 0, 0, 0, 0, 0]\n",
    "epD = [edge.UR, edge.UF, edge.UL, edge.UB, edge.DF, edge.DL, edge.DB, edge.DR, edge.FR, edge.FL, edge.BL, edge.BR]\n",
    "eoD = [0, 0, 0, 0, 0, 0, 0, 0, 0, 0, 0, 0]\n",
    "\n",
    "cpL = [corner.URF, corner.ULB, corner.DBL, corner.UBR, corner.DFR, corner.UFL, corner.DLF, corner.DRB]\n",
    "coL = [0, 1, 2, 0, 0, 2, 1, 0]\n",
    "epL = [edge.UR, edge.UF, edge.BL, edge.UB, edge.DR, edge.DF, edge.FL, edge.DB, edge.FR, edge.UL, edge.DL, edge.BR]\n",
    "eoL = [0, 0, 0, 0, 0, 0, 0, 0, 0, 0, 0, 0]\n",
    "\n",
    "cpB = [corner.URF, corner.UFL, corner.UBR, corner.DRB, corner.DFR, corner.DLF, corner.ULB, corner.DBL]\n",
    "coB = [0, 0, 1, 2, 0, 0, 2, 1]\n",
    "epB = [edge.UR, edge.UF, edge.UL, edge.BR, edge.DR, edge.DF, edge.DL, edge.BL, edge.FR, edge.FL, edge.UB, edge.DB]\n",
    "eoB = [0, 0, 0, 1, 0, 0, 0, 1, 0, 0, 1, 1]\n"
   ]
  }
 ],
 "metadata": {
  "kernelspec": {
   "display_name": "Python 3",
   "language": "python",
   "name": "python3"
  },
  "language_info": {
   "codemirror_mode": {
    "name": "ipython",
    "version": 3
   },
   "file_extension": ".py",
   "mimetype": "text/x-python",
   "name": "python",
   "nbconvert_exporter": "python",
   "pygments_lexer": "ipython3",
   "version": "3.7.3"
  }
 },
 "nbformat": 4,
 "nbformat_minor": 4
}
