{
 "cells": [
  {
   "cell_type": "code",
   "execution_count": 1,
   "metadata": {},
   "outputs": [],
   "source": [
    "UR = 0\n",
    "UF = 1\n",
    "UL = 2\n",
    "UB = 3\n",
    "DR = 4\n",
    "DF = 5\n",
    "DL = 6\n",
    "DB = 7\n",
    "FR = 8\n",
    "FL = 9\n",
    "BL = 10\n",
    "BR = 11\n",
    "\n",
    "edge_values = (\n",
    "    UR,\n",
    "    UF,\n",
    "    UL,\n",
    "    UB,\n",
    "    DR,\n",
    "    DF,\n",
    "    DL,\n",
    "    DB,\n",
    "    FR,\n",
    "    FL,\n",
    "    BL,\n",
    "    BR,\n",
    ")\n",
    "\n",
    "edge_keys = (\n",
    "    'UR',\n",
    "    'UF',\n",
    "    'UL',\n",
    "    'UB',\n",
    "    'DR',\n",
    "    'DF',\n",
    "    'DL',\n",
    "    'DB',\n",
    "    'FR',\n",
    "    'FL',\n",
    "    'BL',\n",
    "    'BR',\n",
    ")"
   ]
  }
 ],
 "metadata": {
  "kernelspec": {
   "display_name": "Python 3",
   "language": "python",
   "name": "python3"
  },
  "language_info": {
   "codemirror_mode": {
    "name": "ipython",
    "version": 3
   },
   "file_extension": ".py",
   "mimetype": "text/x-python",
   "name": "python",
   "nbconvert_exporter": "python",
   "pygments_lexer": "ipython3",
   "version": "3.7.6"
  }
 },
 "nbformat": 4,
 "nbformat_minor": 4
}
