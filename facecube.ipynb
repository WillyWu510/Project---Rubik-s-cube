{
 "cells": [
  {
   "cell_type": "code",
   "execution_count": 3,
   "metadata": {},
   "outputs": [
    {
     "data": {
      "text/plain": [
       "'\\nfrom .facelet import (\\n    U1, U2, U3, U4, U5, U6, U7, U8, U9, R1, R2, R3, R4, R5, R6, R7, R8, R9,\\n    F1, F2, F3, F4, F5, F6, F7, F8, F9, D1, D2, D3, D4, D5, D6, D7, D8, D9,\\n    L1, L2, L3, L4, L5, L6, L7, L8, L9, B1, B2, B3, B4, B5, B6, B7, B8, B9,\\n    facelet_values,\\n)\\nfrom .color import U, R, F, D, L, B, color_keys, colors\\nfrom .corner import URF, UFL, ULB, UBR, DFR, DLF, DBL, DRB, corner_values\\nfrom .edge import UR, UF, UL, UB, DR, DF, DL, DB, FR, FL, BL, BR, edge_values\\n'"
      ]
     },
     "execution_count": 3,
     "metadata": {},
     "output_type": "execute_result"
    }
   ],
   "source": [
    "import import_ipynb\n",
    "from builtins import range\n",
    "import facelet as Fc, color, corner as Co, edge as Ed \n",
    "import cubiecube as QB\n",
    "\"\"\"\n",
    "from .facelet import (\n",
    "    U1, U2, U3, U4, U5, U6, U7, U8, U9, R1, R2, R3, R4, R5, R6, R7, R8, R9,\n",
    "    F1, F2, F3, F4, F5, F6, F7, F8, F9, D1, D2, D3, D4, D5, D6, D7, D8, D9,\n",
    "    L1, L2, L3, L4, L5, L6, L7, L8, L9, B1, B2, B3, B4, B5, B6, B7, B8, B9,\n",
    "    facelet_values,\n",
    ")\n",
    "from .color import U, R, F, D, L, B, color_keys, colors\n",
    "from .corner import URF, UFL, ULB, UBR, DFR, DLF, DBL, DRB, corner_values\n",
    "from .edge import UR, UF, UL, UB, DR, DF, DL, DB, FR, FL, BL, BR, edge_values\n",
    "\"\"\""
   ]
  },
  {
   "cell_type": "code",
   "execution_count": 11,
   "metadata": {},
   "outputs": [],
   "source": [
    "class FaceCube(object):\n",
    "    def __init__(self, cubeString = \"UUUUUUUUURRRRRRRRRFFFFFFFFFDDDDDDDDDLLLLLLLLLBBBBBBBBB\"):\n",
    "        self.f = []\n",
    "        for c in cubeString:\n",
    "            if c in color.colors:\n",
    "                self.f.append(color.colors[c])\n",
    "    \n",
    "    # add some method so that we can print the cube\n",
    "    def __str__(self):\n",
    "        seq = ''\n",
    "        for i in self.f:\n",
    "            seq += color.color_keys[i]\n",
    "        return seq\n",
    "    \n",
    "    def to_2dstring(self):\n",
    "        s = str(self)\n",
    "        r = '    |' + s[0:3] + '|\\n    |' + s[3:6] + '|\\n    |' + s[6:9] + '|\\n'\n",
    "        r += '|' + s[36:39] +'|' + s[18:21] + '|' + s[9:12] +'|'+ s[45:48] + '|\\n' + '|' + s[39:42] + '|' + s[21:24] + '|' + s[12:15] + '|' + s[48:51] \\\n",
    "            + '|\\n' + '|' + s[42:45] + '|' + s[24:27] + '|' + s[15:18] + '|' + s[51:54] + '|\\n'\n",
    "        r += '    |' + s[27:30] + '|\\n    |' + s[30:33] + '|\\n    |' + s[33:36] + '|\\n'\n",
    "        return r"
   ]
  },
  {
   "cell_type": "code",
   "execution_count": 10,
   "metadata": {},
   "outputs": [
    {
     "name": "stdout",
     "output_type": "stream",
     "text": [
      "    |UUU|\n",
      "    |UUU|\n",
      "    |UUU|\n",
      "|LLL|FFF|RRR|BBB|\n",
      "|LLL|FFF|RRR|BBB|\n",
      "|LLL|FFF|RRR|BBB|\n",
      "    |DDD|\n",
      "    |DDD|\n",
      "    |DDD|\n",
      "\n"
     ]
    }
   ],
   "source": [
    "a = FaceCube()\n",
    "print(a.to_2dstring())"
   ]
  }
 ],
 "metadata": {
  "kernelspec": {
   "display_name": "Python 3",
   "language": "python",
   "name": "python3"
  },
  "language_info": {
   "codemirror_mode": {
    "name": "ipython",
    "version": 3
   },
   "file_extension": ".py",
   "mimetype": "text/x-python",
   "name": "python",
   "nbconvert_exporter": "python",
   "pygments_lexer": "ipython3",
   "version": "3.7.3"
  }
 },
 "nbformat": 4,
 "nbformat_minor": 4
}
