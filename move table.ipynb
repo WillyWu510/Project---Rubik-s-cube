{
 "cells": [
  {
   "cell_type": "code",
   "execution_count": 1,
   "metadata": {
    "scrolled": false
   },
   "outputs": [
    {
     "name": "stdout",
     "output_type": "stream",
     "text": [
      "importing Jupyter notebook from coordinatecube.ipynb\n",
      "importing Jupyter notebook from cubiecube.ipynb\n",
      "importing Jupyter notebook from corner.ipynb\n",
      "importing Jupyter notebook from facelet.ipynb\n",
      "importing Jupyter notebook from edge.ipynb\n",
      "importing Jupyter notebook from facecube.ipynb\n",
      "importing Jupyter notebook from color.ipynb\n",
      "Cube in FaceCube level is a string: UUUUUUUUURRRRRRRRRFFFFFFFFFDDDDDDDDDLLLLLLLLLBBBBBBBBB\n",
      "\n",
      "We can convert it into cube-like string: \n",
      "    |UUU|\n",
      "    |UUU|\n",
      "    |UUU|\n",
      "|LLL|FFF|RRR|BBB|\n",
      "|LLL|FFF|RRR|BBB|\n",
      "|LLL|FFF|RRR|BBB|\n",
      "    |DDD|\n",
      "    |DDD|\n",
      "    |DDD|\n",
      "\n",
      "Cube in CubieCube level is represented by cp, co, ep, eo:\n",
      "cp = [0, 1, 2, 3, 4, 5, 6, 7]\n",
      "co = [0 0 0 0 0 0 0 0]\n",
      "ep = [0, 1, 2, 3, 4, 5, 6, 7, 8, 9, 10, 11]\n",
      "eo = [0 0 0 0 0 0 0 0 0 0 0 0]\n",
      "\n",
      "We can translate it into FaceCube level and cube-like string: \n",
      "UUUUUUUUURRRRRRRRRFFFFFFFFFDDDDDDDDDLLLLLLLLLBBBBBBBBB \n",
      "    |UUU|\n",
      "    |UUU|\n",
      "    |UUU|\n",
      "|LLL|FFF|RRR|BBB|\n",
      "|LLL|FFF|RRR|BBB|\n",
      "|LLL|FFF|RRR|BBB|\n",
      "    |DDD|\n",
      "    |DDD|\n",
      "    |DDD|\n",
      "\n",
      "after a move U from clean cube:\n",
      "    |UUU|\n",
      "    |UUU|\n",
      "    |UUU|\n",
      "|FFF|RRR|BBB|LLL|\n",
      "|LLL|FFF|RRR|BBB|\n",
      "|LLL|FFF|RRR|BBB|\n",
      "    |DDD|\n",
      "    |DDD|\n",
      "    |DDD|\n",
      " \n",
      "after a move R from clean cube:\n",
      "    |UUF|\n",
      "    |UUF|\n",
      "    |UUF|\n",
      "|LLL|FFD|RRR|UBB|\n",
      "|LLL|FFD|RRR|UBB|\n",
      "|LLL|FFD|RRR|UBB|\n",
      "    |DDB|\n",
      "    |DDB|\n",
      "    |DDB|\n",
      " \n",
      "after a move F from clean cube:\n",
      "    |UUU|\n",
      "    |UUU|\n",
      "    |LLL|\n",
      "|LLD|FFF|URR|BBB|\n",
      "|LLD|FFF|URR|BBB|\n",
      "|LLD|FFF|URR|BBB|\n",
      "    |RRR|\n",
      "    |DDD|\n",
      "    |DDD|\n",
      " \n",
      "after a move D from clean cube:\n",
      "    |UUU|\n",
      "    |UUU|\n",
      "    |UUU|\n",
      "|LLL|FFF|RRR|BBB|\n",
      "|LLL|FFF|RRR|BBB|\n",
      "|BBB|LLL|FFF|RRR|\n",
      "    |DDD|\n",
      "    |DDD|\n",
      "    |DDD|\n",
      " \n",
      "after a move L from clean cube:\n",
      "    |BUU|\n",
      "    |BUU|\n",
      "    |BUU|\n",
      "|LLL|UFF|RRR|BBD|\n",
      "|LLL|UFF|RRR|BBD|\n",
      "|LLL|UFF|RRR|BBD|\n",
      "    |FDD|\n",
      "    |FDD|\n",
      "    |FDD|\n",
      " \n",
      "after a move B from clean cube:\n",
      "    |RRR|\n",
      "    |UUU|\n",
      "    |UUU|\n",
      "|ULL|FFF|RRD|BBB|\n",
      "|ULL|FFF|RRD|BBB|\n",
      "|ULL|FFF|RRD|BBB|\n",
      "    |DDD|\n",
      "    |DDD|\n",
      "    |LLL|\n",
      " \n",
      "after a move UR from clean cube:\n",
      "    |UUR|\n",
      "    |UUF|\n",
      "    |UUF|\n",
      "|FFF|RRD|RRB|ULL|\n",
      "|LLL|FFD|RRB|UBB|\n",
      "|LLL|FFD|RRB|UBB|\n",
      "    |DDB|\n",
      "    |DDB|\n",
      "    |DDL|\n",
      " \n",
      "after a sequence of move from clean cube:\n",
      "    |FLU|\n",
      "    |FUR|\n",
      "    |LLD|\n",
      "|DDF|UDL|BUR|BUL|\n",
      "|LLR|FFU|BRF|LBB|\n",
      "|LBR|FUD|FRB|DDU|\n",
      "    |UFR|\n",
      "    |RDD|\n",
      "    |BBR|\n",
      " \n"
     ]
    },
    {
     "ename": "NameError",
     "evalue": "name 'cube_in_coordinate_level' is not defined",
     "output_type": "error",
     "traceback": [
      "\u001b[1;31m---------------------------------------------------------------------------\u001b[0m",
      "\u001b[1;31mNameError\u001b[0m                                 Traceback (most recent call last)",
      "\u001b[1;32m<ipython-input-1-f55311255e42>\u001b[0m in \u001b[0;36m<module>\u001b[1;34m()\u001b[0m\n\u001b[0;32m      1\u001b[0m \u001b[1;32mimport\u001b[0m \u001b[0mimport_ipynb\u001b[0m\u001b[1;33m\u001b[0m\u001b[0m\n\u001b[0;32m      2\u001b[0m \u001b[1;32mimport\u001b[0m \u001b[0mnumpy\u001b[0m \u001b[1;32mas\u001b[0m \u001b[0mnp\u001b[0m\u001b[1;33m\u001b[0m\u001b[0m\n\u001b[1;32m----> 3\u001b[1;33m \u001b[1;32mimport\u001b[0m \u001b[0mcoordinatecube\u001b[0m \u001b[1;32mas\u001b[0m \u001b[0mCoordC\u001b[0m\u001b[1;33m\u001b[0m\u001b[0m\n\u001b[0m\u001b[0;32m      4\u001b[0m \u001b[1;32mimport\u001b[0m \u001b[0mTwoPhaseCoordinate\u001b[0m \u001b[1;32mas\u001b[0m \u001b[0mTPCoordC\u001b[0m\u001b[1;33m\u001b[0m\u001b[0m\n\u001b[0;32m      5\u001b[0m \u001b[1;32mimport\u001b[0m \u001b[0mtime\u001b[0m\u001b[1;33m\u001b[0m\u001b[0m\n",
      "\u001b[1;32m~\\Anaconda3\\lib\\importlib\\_bootstrap.py\u001b[0m in \u001b[0;36m_find_and_load\u001b[1;34m(name, import_)\u001b[0m\n",
      "\u001b[1;32m~\\Anaconda3\\lib\\importlib\\_bootstrap.py\u001b[0m in \u001b[0;36m_find_and_load_unlocked\u001b[1;34m(name, import_)\u001b[0m\n",
      "\u001b[1;32m~\\Anaconda3\\lib\\importlib\\_bootstrap.py\u001b[0m in \u001b[0;36m_load_unlocked\u001b[1;34m(spec)\u001b[0m\n",
      "\u001b[1;32m~\\Anaconda3\\lib\\importlib\\_bootstrap.py\u001b[0m in \u001b[0;36m_load_backward_compatible\u001b[1;34m(spec)\u001b[0m\n",
      "\u001b[1;32m~\\Anaconda3\\lib\\site-packages\\import_ipynb.py\u001b[0m in \u001b[0;36mload_module\u001b[1;34m(self, fullname)\u001b[0m\n\u001b[0;32m     59\u001b[0m                 \u001b[0mcode\u001b[0m \u001b[1;33m=\u001b[0m \u001b[0mself\u001b[0m\u001b[1;33m.\u001b[0m\u001b[0mshell\u001b[0m\u001b[1;33m.\u001b[0m\u001b[0minput_transformer_manager\u001b[0m\u001b[1;33m.\u001b[0m\u001b[0mtransform_cell\u001b[0m\u001b[1;33m(\u001b[0m\u001b[0mcell\u001b[0m\u001b[1;33m.\u001b[0m\u001b[0msource\u001b[0m\u001b[1;33m)\u001b[0m\u001b[1;33m\u001b[0m\u001b[0m\n\u001b[0;32m     60\u001b[0m                 \u001b[1;31m# run the code in themodule\u001b[0m\u001b[1;33m\u001b[0m\u001b[1;33m\u001b[0m\u001b[0m\n\u001b[1;32m---> 61\u001b[1;33m                 \u001b[0mexec\u001b[0m\u001b[1;33m(\u001b[0m\u001b[0mcode\u001b[0m\u001b[1;33m,\u001b[0m \u001b[0mmod\u001b[0m\u001b[1;33m.\u001b[0m\u001b[0m__dict__\u001b[0m\u001b[1;33m)\u001b[0m\u001b[1;33m\u001b[0m\u001b[0m\n\u001b[0m\u001b[0;32m     62\u001b[0m         \u001b[1;32mfinally\u001b[0m\u001b[1;33m:\u001b[0m\u001b[1;33m\u001b[0m\u001b[0m\n\u001b[0;32m     63\u001b[0m             \u001b[0mself\u001b[0m\u001b[1;33m.\u001b[0m\u001b[0mshell\u001b[0m\u001b[1;33m.\u001b[0m\u001b[0muser_ns\u001b[0m \u001b[1;33m=\u001b[0m \u001b[0msave_user_ns\u001b[0m\u001b[1;33m\u001b[0m\u001b[0m\n",
      "\u001b[1;32mD:\\josh-pc\\Documents\\大學數學\\計算數學導論\\FinalProj\\Project---Rubik-s-cube\\coordinatecube.ipynb\u001b[0m in \u001b[0;36m<module>\u001b[1;34m()\u001b[0m\n",
      "\u001b[1;31mNameError\u001b[0m: name 'cube_in_coordinate_level' is not defined"
     ]
    }
   ],
   "source": [
    "import import_ipynb\n",
    "import numpy as np\n",
    "import coordinatecube as CoordC\n",
    "import TwoPhaseCoordinate as TPCoordC\n",
    "import time"
   ]
  },
  {
   "cell_type": "code",
   "execution_count": 12,
   "metadata": {},
   "outputs": [],
   "source": [
    "U, U2, U3, R, R2, R3, F, F2, F3, D, D2, D3, L, L2, L3, B, B2, B3 = [i for i in range(18)]\n",
    "move_dict = {\n",
    "    'U' : U, \n",
    "    'UU' : U2, \n",
    "    'UUU' : U3, \n",
    "    'R' : R, \n",
    "    'RR' : R2, \n",
    "    'RRR' : R3, \n",
    "    'F' : F, \n",
    "    'FF' : F2, \n",
    "    'FFF' : F3, \n",
    "    'D' : D, \n",
    "    'DD' : D2, \n",
    "    'DDD' : D3, \n",
    "    'L' : L, \n",
    "    'LL' : L2, \n",
    "    'LLL' : L3, \n",
    "    'B' : B, \n",
    "    'BB' : B2, \n",
    "    'BBB' : B3\n",
    "}\n",
    "\n",
    "inv_move_index = {\n",
    "    'U' : 'UUU', \n",
    "    'UU' : 'UU', \n",
    "    'UUU' : 'U', \n",
    "    'R' : 'RRR', \n",
    "    'RR' : 'RR', \n",
    "    'RRR' : 'R', \n",
    "    'F' : 'FFF', \n",
    "    'FF' : 'FF', \n",
    "    'FFF' : 'F', \n",
    "    'D' : 'DDD', \n",
    "    'DD' : 'DD', \n",
    "    'DDD' : 'D', \n",
    "    'L' : 'LLL', \n",
    "    'LL' : 'LL', \n",
    "    'LLL' : 'L', \n",
    "    'B' : 'BBB', \n",
    "    'BB' : 'BB', \n",
    "    'BBB' : 'B'\n",
    "}"
   ]
  },
  {
   "cell_type": "code",
   "execution_count": 3,
   "metadata": {},
   "outputs": [],
   "source": [
    "class MoveTable():\n",
    "    def __init__(self):\n",
    "        # row entries: different pattern\n",
    "        #column entries: 18 moves: U, U2, U3, R, R2, R3, F, F2, F3, D, D2, D3, L, L2, L3, B, B1, B2, B3\n",
    "        self.CornerPermutation = np.zeros([np.math.factorial(8),18], dtype = 'int')\n",
    "        self.CornerOrientation = np.zeros([3**7,18],dtype = 'int')\n",
    "        self.EdgePermutation_P1 = np.zeros([12*11*10*9//np.math.factorial(4),18], dtype = 'int') \n",
    "        self.EdgeOrientation = np.zeros([2**11,18],dtype = 'int')\n",
    "           \n",
    "        # Corner Permutation\n",
    "        for i in range(np.math.factorial(8)):\n",
    "            # generate a cube, turn it, record it, and then undo the move.\n",
    "            Q = CoordC.CoordinateCube(i, 0, 0, 0, CubieCube = None)\n",
    "            Q_C = Q.to_cubiecube()\n",
    "            for key in move_dict.keys():\n",
    "                Q_C.move(key)\n",
    "                Q_2 = CoordC.CoordinateCube(CubieCube = Q_C)\n",
    "                self.CornerPermutation[i,move_dict[key]] = Q_2.cp\n",
    "                Q_C.move(inv_move_index[key])\n",
    "        \n",
    "        # Corner Orientation\n",
    "        for i in range(3**7):\n",
    "            # generate a cube, turn it, record it, and then undo the move.\n",
    "            Q = CoordC.CoordinateCube(0, i, 0, 0, CubieCube = None)\n",
    "            Q_C = Q.to_cubiecube()\n",
    "            for key in move_dict.keys():\n",
    "                Q_C.move(key)\n",
    "                Q_2 = CoordC.CoordinateCube(CubieCube = Q_C)\n",
    "                self.CornerOrientation[i,move_dict[key]] = Q_2.co\n",
    "                Q_C.move(inv_move_index[key])\n",
    "        \n",
    "        # Edge Permutation\n",
    "        for i in range(12*11*10*9//np.math.factorial(4)):\n",
    "            # generate a cube, turn it, record it, and then undo the move.\n",
    "            Q = TPCoordC.PhaseOneCoordinateCube(0, 0, i, 0, CubieCube = None)\n",
    "            Q_C = Q.to_CubieCube()\n",
    "            for key in move_dict.keys():\n",
    "                Q_C.move(key)\n",
    "                Q_2 = TPCoordC.PhaseOneCoordinateCube(CubieCube = Q_C)\n",
    "                self.EdgePermutation_P1[i,move_dict[key]] = Q_2.ep_UDSlice_phase1\n",
    "                Q_C.move(inv_move_index[key])\n",
    "        \n",
    "        # Edge Orientation\n",
    "        for i in range(2**11):\n",
    "            # generate a cube, turn it, record it, and then undo the move.\n",
    "            Q = CoordC.CoordinateCube(0, 0, 0, i, CubieCube = None)\n",
    "            Q_C = Q.to_cubiecube()\n",
    "            for key in move_dict.keys():\n",
    "                Q_C.move(key)\n",
    "                Q_2 = CoordC.CoordinateCube(CubieCube = Q_C)\n",
    "                self.EdgeOrientation[i,move_dict[key]] = Q_2.eo\n",
    "                Q_C.move(inv_move_index[key])"
   ]
  },
  {
   "cell_type": "code",
   "execution_count": 33,
   "metadata": {},
   "outputs": [
    {
     "name": "stdout",
     "output_type": "stream",
     "text": [
      "--- 271.0575575828552 seconds ---\n"
     ]
    }
   ],
   "source": [
    "start_time = time.time()\n",
    "MT = MoveTable()\n",
    "print(\"--- %s seconds ---\" % (time.time() - start_time))"
   ]
  },
  {
   "cell_type": "code",
   "execution_count": 27,
   "metadata": {},
   "outputs": [],
   "source": [
    "np.savetxt('MoveTable_cp.txt', MT.CornerPermutation, fmt='%d')\n",
    "np.savetxt('MoveTable_co.txt', MT.CornerOrientation, fmt='%d')\n",
    "np.savetxt('MoveTable_ep_P1.txt', MT.EdgePermutation_P1, fmt='%d')\n",
    "np.savetxt('MoveTable_eo.txt', MT.EdgeOrientation, fmt='%d')"
   ]
  },
  {
   "cell_type": "code",
   "execution_count": 5,
   "metadata": {},
   "outputs": [],
   "source": [
    "MoveTable_cp = np.loadtxt('MoveTable_cp.txt', dtype=int)\n",
    "MoveTable_co = np.loadtxt('MoveTable_co.txt', dtype=int)\n",
    "MoveTable_ep_P1 = np.loadtxt('MoveTable_ep_P1.txt', dtype=int)\n",
    "MoveTable_eo = np.loadtxt('MoveTable_eo.txt', dtype=int)"
   ]
  },
  {
   "cell_type": "code",
   "execution_count": 21,
   "metadata": {
    "scrolled": true
   },
   "outputs": [
    {
     "name": "stdout",
     "output_type": "stream",
     "text": [
      "the shape of four tables:\n",
      "cp: (40320, 18)\n",
      "co: (2187, 18)\n",
      "ep_UDSlice_phase1: (495, 18)\n",
      "eo: (2048, 18)\n"
     ]
    }
   ],
   "source": [
    "MoveTable_cp = np.array(MoveTable_cp)\n",
    "MoveTable_co = np.array(MoveTable_co)\n",
    "MoveTable_ep_P1 = np.array(MoveTable_ep_P1)\n",
    "MoveTable_eo = np.array(MoveTable_eo)\n",
    "print(f\"the shape of four tables:\\n\\\n",
    "cp: {MoveTable_cp.shape}\\n\\\n",
    "co: {MoveTable_co.shape}\\n\\\n",
    "ep_UDSlice_phase1: {MoveTable_ep_P1.shape}\\n\\\n",
    "eo: {MoveTable_eo.shape}\")\n"
   ]
  },
  {
   "cell_type": "code",
   "execution_count": 23,
   "metadata": {
    "scrolled": true
   },
   "outputs": [
    {
     "name": "stdout",
     "output_type": "stream",
     "text": [
      "[[   0    0    0 1494    0 1494 1236    0 1236    0    0    0  412    0\n",
      "   412  137    0  137]\n",
      " [   1    1    1 1486 1459 1468 1237    1 1237    5   15   18  250  243\n",
      "   406  110  189  217]\n",
      " [   2    2    2 1505  731 1523 1238    2 1238    7   21    9  331  486\n",
      "   409   83  135   54]\n",
      " [   3    3    3 1488 1461 1470  750  729 1218   11    6   19  413   81\n",
      "   655  113  165  139]\n",
      " [   4    4    4 1507  733 1525  751  730 1219   13   12   10  251  324\n",
      "   649   86  111  219]\n",
      " [   5    5    5 1499    5 1499  752  731 1220   15   18    1  332  567\n",
      "   652  140   57   59]\n",
      " [   6    6    6 1509  735 1527  993 1458 1227   19    3   11  411  162\n",
      "   169   89   87  141]\n",
      " [   7    7    7 1501    7 1501  994 1459 1228   21    9    2  249  405\n",
      "   163  143   33  224]\n",
      " [   8    8    8 1493 1466 1475  995 1460 1229   26   24   20  330  648\n",
      "   166  116  222   61]\n",
      " [   9    9    9   27 1485 1467 1239  243 1965    2    7   21  421    9\n",
      "   421  119  171  145]]\n"
     ]
    }
   ],
   "source": [
    "print(MoveTable_co[:10, :])"
   ]
  },
  {
   "cell_type": "code",
   "execution_count": 29,
   "metadata": {},
   "outputs": [
    {
     "name": "stdout",
     "output_type": "stream",
     "text": [
      "96\n"
     ]
    }
   ],
   "source": [
    "# the (258, U)-entry of the move table \n",
    "# of co is 96 means that a cube with \n",
    "# co = 258 converts to 96  after a U move.\n",
    "print(MoveTable_co[258, U])"
   ]
  }
 ],
 "metadata": {
  "kernelspec": {
   "display_name": "Python 3",
   "language": "python",
   "name": "python3"
  },
  "language_info": {
   "codemirror_mode": {
    "name": "ipython",
    "version": 3
   },
   "file_extension": ".py",
   "mimetype": "text/x-python",
   "name": "python",
   "nbconvert_exporter": "python",
   "pygments_lexer": "ipython3",
   "version": "3.6.5"
  }
 },
 "nbformat": 4,
 "nbformat_minor": 2
}
